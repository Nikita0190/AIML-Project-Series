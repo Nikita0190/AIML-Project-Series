{
  "nbformat": 4,
  "nbformat_minor": 0,
  "metadata": {
    "colab": {
      "provenance": [],
      "toc_visible": true,
      "authorship_tag": "ABX9TyP4z0Uh0/IDT981xLxPKwwx",
      "include_colab_link": true
    },
    "kernelspec": {
      "name": "python3",
      "display_name": "Python 3"
    },
    "language_info": {
      "name": "python"
    }
  },
  "cells": [
    {
      "cell_type": "markdown",
      "metadata": {
        "id": "view-in-github",
        "colab_type": "text"
      },
      "source": [
        "<a href=\"https://colab.research.google.com/github/Nikita0190/AIML-Project-Series/blob/main/PROJECT1.ipynb\" target=\"_parent\"><img src=\"https://colab.research.google.com/assets/colab-badge.svg\" alt=\"Open In Colab\"/></a>"
      ]
    },
    {
      "cell_type": "code",
      "execution_count": null,
      "metadata": {
        "colab": {
          "base_uri": "https://localhost:8080/"
        },
        "id": "rqDniyRfJcdj",
        "outputId": "ba6d59c8-8c88-4059-92b2-0618aded16ae"
      },
      "outputs": [
        {
          "output_type": "stream",
          "name": "stdout",
          "text": [
            "Hi there!\n",
            "What's your name?\n",
            "> Nikita\n",
            "Nice to meet you, Nikita!\n",
            "What's your favorite hobby?\n",
            "> dance\n",
            "That's interesting! dance.\n",
            "Do you have any questions for me?\n"
          ]
        }
      ],
      "source": [
        "import random\n",
        "\n",
        "# Dictionary to store predefined responses\n",
        "responses = {\n",
        "    \"hello\": [\"Hi there!\", \"Hello!\", \"Greetings!\", \"Hey\"],\n",
        "    \"how are you\": [\"I'm doing good, thank you!\", \"I'm fine, how about you?\", \"I'm Great, What about You?\"],\n",
        "    \"what's your name\": [\"My name is ChatBot.\", \"I'm ChatBot, nice to meet you!\"],\n",
        "    \"what do you do\": [\"I'm here to chat and help you to resolve your problems!\"],\n",
        "    \"bye\": [\"Goodbye!\", \"See you later!\", \"Take care!\"],\n",
        "    \"default\": [\"I'm not sure I understand. Could you rephrase that?\",\n",
        "                \"I don't have an answer for that. Can you ask something else?\"]\n",
        "}\n",
        "\n",
        "# List to store conversation history\n",
        "conversation_history = []\n",
        "\n",
        "\n",
        "def greeting():\n",
        "    return random.choice(responses[\"hello\"])\n",
        "\n",
        "\n",
        "def end():\n",
        "    return random.choice(responses[\"bye\"])\n",
        "\n",
        "\n",
        "def respond(user_input):\n",
        "    user_input = user_input.lower()\n",
        "    for key in responses:\n",
        "        if key in user_input:\n",
        "            return random.choice(responses[key])\n",
        "    return random.choice(responses[\"default\"])\n",
        "\n",
        "\n",
        "def ask_question(question):\n",
        "    print(question)\n",
        "    user_response = input(\"> \")\n",
        "    conversation_history.append((\"Bot\", question))\n",
        "    conversation_history.append((\"User\", user_response))\n",
        "    return user_response\n",
        "\n",
        "\n",
        "def chatbot():\n",
        "    print(greeting())\n",
        "    conversation_history.append((\"Bot\", greeting()))\n",
        "\n",
        "    # Ask three questions\n",
        "    name = ask_question(\"What's your name?\")\n",
        "    print(f\"Nice to meet you, {name}!\")\n",
        "\n",
        "    hobby = ask_question(\"What's your favorite hobby?\")\n",
        "    print(f\"That's interesting! {hobby}.\")\n",
        "\n",
        "    ask_question(\"Do you have any questions for me?\")\n",
        "\n",
        "    while True:\n",
        "        user_input = input(\"> \")\n",
        "        conversation_history.append((\"User\", user_input))\n",
        "\n",
        "        if user_input.lower() in [\"bye\", \"goodbye\", \"exit\"]:\n",
        "            print(end())\n",
        "            conversation_history.append((\"Bot\", end()))\n",
        "            break\n",
        "\n",
        "        response = respond(user_input)\n",
        "        print(response)\n",
        "        conversation_history.append((\"Bot\", response))\n",
        "\n",
        "        # Example of using conversation history\n",
        "        if \"what did i say\" in user_input.lower():\n",
        "            if len(conversation_history) > 2:\n",
        "                print(f\"You previously said: '{conversation_history[-3][1]}'\")\n",
        "            else:\n",
        "                print(\"You haven't said anything yet.\")\n",
        "\n",
        "\n",
        "if __name__ == \"__main__\":\n",
        "    chatbot()"
      ]
    }
  ]
}