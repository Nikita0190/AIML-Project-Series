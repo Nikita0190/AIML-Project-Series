{
  "nbformat": 4,
  "nbformat_minor": 0,
  "metadata": {
    "colab": {
      "provenance": [],
      "authorship_tag": "ABX9TyNklGvZ8upO8ibV1oHXpwuw",
      "include_colab_link": true
    },
    "kernelspec": {
      "name": "python3",
      "display_name": "Python 3"
    },
    "language_info": {
      "name": "python"
    }
  },
  "cells": [
    {
      "cell_type": "markdown",
      "metadata": {
        "id": "view-in-github",
        "colab_type": "text"
      },
      "source": [
        "<a href=\"https://colab.research.google.com/github/Nikita0190/AIML-Project-Series/blob/main/PROJECT3.ipynb\" target=\"_parent\"><img src=\"https://colab.research.google.com/assets/colab-badge.svg\" alt=\"Open In Colab\"/></a>"
      ]
    },
    {
      "cell_type": "code",
      "source": [
        "import pandas as pd\n",
        "import numpy as np\n",
        "from sklearn.preprocessing import StandardScaler, OneHotEncoder\n",
        "from sklearn.impute import SimpleImputer\n",
        "from sklearn.compose import ColumnTransformer\n",
        "from sklearn.pipeline import Pipeline\n",
        "from sklearn.model_selection import train_test_split\n",
        "\n",
        "# Load the data\n",
        "data = pd.read_csv('Health.csv')\n",
        "\n",
        "# Separate features and target\n",
        "X = data.drop('disease', axis=1)\n",
        "y = data['disease']\n",
        "\n",
        "# Identify numeric and categorical columns\n",
        "numeric_features = X.select_dtypes(include=['int64', 'float64']).columns\n",
        "categorical_features = X.select_dtypes(include=['object']).columns\n",
        "\n",
        "# Create preprocessing pipelines for both numeric and categorical data\n",
        "numeric_transformer = Pipeline(steps=[\n",
        "    ('imputer', SimpleImputer(strategy='mean')),\n",
        "    ('scaler', StandardScaler())\n",
        "])\n",
        "\n",
        "categorical_transformer = Pipeline(steps=[\n",
        "    ('imputer', SimpleImputer(strategy='most_frequent')),\n",
        "    ('onehot', OneHotEncoder(handle_unknown='ignore'))\n",
        "])\n",
        "\n",
        "# Combine preprocessing steps\n",
        "preprocessor = ColumnTransformer(\n",
        "    transformers=[\n",
        "        ('num', numeric_transformer, numeric_features),\n",
        "        ('cat', categorical_transformer, categorical_features)\n",
        "    ])\n",
        "\n",
        "# Fit and transform the data\n",
        "X_preprocessed = preprocessor.fit_transform(X)\n",
        "\n",
        "# Get feature names after preprocessing\n",
        "onehot_encoder = preprocessor.named_transformers_['cat'].named_steps['onehot']\n",
        "cat_feature_names = onehot_encoder.get_feature_names_out(categorical_features)\n",
        "feature_names = list(numeric_features) + list(cat_feature_names)\n",
        "\n",
        "# Convert to DataFrame\n",
        "if isinstance(X_preprocessed, np.ndarray):\n",
        "    X_preprocessed_df = pd.DataFrame(X_preprocessed, columns=feature_names)\n",
        "else:\n",
        "    X_preprocessed_df = pd.DataFrame(X_preprocessed.toarray(), columns=feature_names)\n",
        "\n",
        "# Split the data into training and testing sets\n",
        "X_train, X_test, y_train, y_test = train_test_split(X_preprocessed_df, y, test_size=0.2, random_state=42)\n",
        "\n",
        "print(\"Preprocessed data shape:\", X_preprocessed_df.shape)\n",
        "print(\"\\nFirst few rows of preprocessed data:\")\n",
        "print(X_preprocessed_df.head())\n",
        "\n",
        "# Feature Selection\n",
        "from sklearn.feature_selection import SelectKBest, f_classif\n",
        "\n",
        "# Select the top k features\n",
        "k = 15  # You may want to adjust this value based on your needs\n",
        "selector = SelectKBest(score_func=f_classif, k=k)\n",
        "X_train_selected = selector.fit_transform(X_train, y_train)\n",
        "X_test_selected = selector.transform(X_test)\n",
        "\n",
        "# Get the names of the selected features\n",
        "selected_features = X_train.columns[selector.get_support()].tolist()\n",
        "print(\"\\nSelected features:\", selected_features)\n",
        "\n",
        "# Update X_train and X_test to include only selected features\n",
        "X_train_selected = pd.DataFrame(X_train_selected, columns=selected_features)\n",
        "X_test_selected = pd.DataFrame(X_test_selected, columns=selected_features)\n",
        "\n",
        "print(\"\\nShape of X_train_selected:\", X_train_selected.shape)\n",
        "print(\"Shape of X_test_selected:\", X_test_selected.shape)\n"
      ],
      "metadata": {
        "colab": {
          "base_uri": "https://localhost:8080/"
        },
        "id": "kXAT2CMX7sNt",
        "outputId": "a9a7fe02-c10a-452d-b842-a4c63a519323"
      },
      "execution_count": null,
      "outputs": [
        {
          "output_type": "stream",
          "name": "stdout",
          "text": [
            "Preprocessed data shape: (1000, 22)\n",
            "\n",
            "First few rows of preprocessed data:\n",
            "        age       bmi  blood_pressure_systolic  blood_pressure_diastolic  \\\n",
            "0  0.769461  0.348429                -0.617664                 -1.570774   \n",
            "1 -0.996781  0.301254                 0.561985                 -1.398022   \n",
            "2  1.724186  0.591939                -0.539021                  1.020502   \n",
            "3  1.199087 -1.390156                 0.837236                 -1.282854   \n",
            "4 -0.710363  0.555264                 0.837236                  0.271911   \n",
            "\n",
            "   cholesterol   glucose  gender_Female  gender_Male  smoking_No  smoking_Yes  \\\n",
            "0     0.962357 -0.665023            0.0          1.0         0.0          1.0   \n",
            "1    -1.436586 -0.371131            0.0          1.0         1.0          0.0   \n",
            "2     1.133710  0.189934            1.0          0.0         0.0          1.0   \n",
            "3    -0.655978 -0.745175            0.0          1.0         0.0          1.0   \n",
            "4    -0.389428  1.472369            0.0          1.0         1.0          0.0   \n",
            "\n",
            "   ...  alcohol_consumption_Moderate  physical_activity_High  \\\n",
            "0  ...                           1.0                     1.0   \n",
            "1  ...                           0.0                     0.0   \n",
            "2  ...                           1.0                     0.0   \n",
            "3  ...                           0.0                     1.0   \n",
            "4  ...                           1.0                     0.0   \n",
            "\n",
            "   physical_activity_Low  physical_activity_Moderate  family_history_No  \\\n",
            "0                    0.0                         0.0                1.0   \n",
            "1                    1.0                         0.0                1.0   \n",
            "2                    1.0                         0.0                0.0   \n",
            "3                    0.0                         0.0                1.0   \n",
            "4                    0.0                         1.0                1.0   \n",
            "\n",
            "   family_history_Yes  previous_heart_problems_No  \\\n",
            "0                 0.0                         0.0   \n",
            "1                 0.0                         0.0   \n",
            "2                 1.0                         1.0   \n",
            "3                 0.0                         1.0   \n",
            "4                 0.0                         0.0   \n",
            "\n",
            "   previous_heart_problems_Yes  previous_stroke_No  previous_stroke_Yes  \n",
            "0                          1.0                 0.0                  1.0  \n",
            "1                          1.0                 0.0                  1.0  \n",
            "2                          0.0                 1.0                  0.0  \n",
            "3                          0.0                 0.0                  1.0  \n",
            "4                          1.0                 0.0                  1.0  \n",
            "\n",
            "[5 rows x 22 columns]\n",
            "\n",
            "Selected features: ['age', 'bmi', 'blood_pressure_systolic', 'cholesterol', 'glucose', 'gender_Female', 'gender_Male', 'alcohol_consumption_Moderate', 'physical_activity_Low', 'family_history_No', 'family_history_Yes', 'previous_heart_problems_No', 'previous_heart_problems_Yes', 'previous_stroke_No', 'previous_stroke_Yes']\n",
            "\n",
            "Shape of X_train_selected: (800, 15)\n",
            "Shape of X_test_selected: (200, 15)\n"
          ]
        }
      ]
    },
    {
      "cell_type": "code",
      "source": [
        "from sklearn.feature_selection import SelectKBest, f_classif\n",
        "import pandas as pd\n",
        "\n",
        "# Assuming you already have your X_train and y_train defined\n",
        "# X_train = pd.DataFrame(...)  # Your training feature set\n",
        "# y_train = [...]              # Your target variable\n",
        "\n",
        "# Select the top k features\n",
        "k = 10  # You can adjust this value\n",
        "selector = SelectKBest(score_func=f_classif, k=k)\n",
        "X_train_selected = selector.fit_transform(X_train, y_train)\n",
        "\n",
        "# Transform your test set\n",
        "X_test_selected = selector.transform(X_test)\n",
        "\n",
        "# Get the names of the selected features using X_train\n",
        "selected_features = X_train.columns[selector.get_support()].tolist()\n",
        "print(\"Selected features:\", selected_features)\n"
      ],
      "metadata": {
        "colab": {
          "base_uri": "https://localhost:8080/"
        },
        "id": "2MbEE31h9k4I",
        "outputId": "d279ff56-d80a-4971-8a9b-4178d415b888"
      },
      "execution_count": null,
      "outputs": [
        {
          "output_type": "stream",
          "name": "stdout",
          "text": [
            "Selected features: ['age', 'bmi', 'blood_pressure_systolic', 'cholesterol', 'glucose', 'gender_Female', 'gender_Male', 'family_history_No', 'previous_stroke_No', 'previous_stroke_Yes']\n"
          ]
        }
      ]
    },
    {
      "cell_type": "code",
      "source": [
        "print(\"Shape of X_train:\", X_train.shape)\n",
        "print(\"Columns of X_train:\", X_train.columns.tolist())\n"
      ],
      "metadata": {
        "colab": {
          "base_uri": "https://localhost:8080/"
        },
        "id": "OdHD49JB-sz2",
        "outputId": "412592f9-fd44-4f02-f69b-7dc56100ac08"
      },
      "execution_count": null,
      "outputs": [
        {
          "output_type": "stream",
          "name": "stdout",
          "text": [
            "Shape of X_train: (800, 22)\n",
            "Columns of X_train: ['age', 'bmi', 'blood_pressure_systolic', 'blood_pressure_diastolic', 'cholesterol', 'glucose', 'gender_Female', 'gender_Male', 'smoking_No', 'smoking_Yes', 'alcohol_consumption_Heavy', 'alcohol_consumption_Light', 'alcohol_consumption_Moderate', 'physical_activity_High', 'physical_activity_Low', 'physical_activity_Moderate', 'family_history_No', 'family_history_Yes', 'previous_heart_problems_No', 'previous_heart_problems_Yes', 'previous_stroke_No', 'previous_stroke_Yes']\n"
          ]
        }
      ]
    },
    {
      "cell_type": "code",
      "source": [
        "from sklearn.linear_model import LogisticRegression\n",
        "from sklearn.tree import DecisionTreeClassifier\n",
        "from sklearn.ensemble import RandomForestClassifier\n",
        "from sklearn.svm import SVC\n",
        "from sklearn.metrics import accuracy_score, precision_score, recall_score, f1_score\n",
        "\n",
        "# Initialize models\n",
        "models = {\n",
        "    'Logistic Regression': LogisticRegression(),\n",
        "    'Decision Tree': DecisionTreeClassifier(),\n",
        "    'Random Forest': RandomForestClassifier(),\n",
        "    'SVM': SVC()\n",
        "}\n",
        "\n",
        "# Train and evaluate models\n",
        "results = {}\n",
        "for name, model in models.items():\n",
        "    model.fit(X_train_selected, y_train)\n",
        "    y_pred = model.predict(X_test_selected)\n",
        "\n",
        "    results[name] = {\n",
        "        'accuracy': accuracy_score(y_test, y_pred),\n",
        "        'precision': precision_score(y_test, y_pred, average='weighted'),\n",
        "        'recall': recall_score(y_test, y_pred, average='weighted'),\n",
        "        'f1': f1_score(y_test, y_pred, average='weighted')\n",
        "    }\n",
        "\n",
        "# Print results\n",
        "for name, metrics in results.items():\n",
        "    print(f\"\\n{name}:\")\n",
        "    for metric, value in metrics.items():\n",
        "        print(f\"{metric}: {value:.4f}\")"
      ],
      "metadata": {
        "colab": {
          "base_uri": "https://localhost:8080/"
        },
        "id": "DRTiLNui-4Di",
        "outputId": "d4fab8df-2434-4730-8855-f42755e41733"
      },
      "execution_count": null,
      "outputs": [
        {
          "output_type": "stream",
          "name": "stdout",
          "text": [
            "\n",
            "Logistic Regression:\n",
            "accuracy: 0.7600\n",
            "precision: 0.7476\n",
            "recall: 0.7600\n",
            "f1: 0.7218\n",
            "\n",
            "Decision Tree:\n",
            "accuracy: 0.6400\n",
            "precision: 0.6362\n",
            "recall: 0.6400\n",
            "f1: 0.6380\n",
            "\n",
            "Random Forest:\n",
            "accuracy: 0.7450\n",
            "precision: 0.7220\n",
            "recall: 0.7450\n",
            "f1: 0.7164\n",
            "\n",
            "SVM:\n",
            "accuracy: 0.7400\n",
            "precision: 0.7172\n",
            "recall: 0.7400\n",
            "f1: 0.6902\n"
          ]
        }
      ]
    },
    {
      "cell_type": "code",
      "source": [
        "from sklearn.model_selection import cross_val_score\n",
        "\n",
        "# Perform 5-fold cross-validation for each model\n",
        "cv_results = {}\n",
        "for name, model in models.items():\n",
        "    cv_scores = cross_val_score(model, X_train_selected, y_train, cv=5)\n",
        "    cv_results[name] = {\n",
        "        'mean_cv_score': np.mean(cv_scores),\n",
        "        'std_cv_score': np.std(cv_scores)\n",
        "    }\n",
        "\n",
        "# Print cross-validation results\n",
        "for name, metrics in cv_results.items():\n",
        "    print(f\"\\n{name}:\")\n",
        "    print(f\"Mean CV Score: {metrics['mean_cv_score']:.4f}\")\n",
        "    print(f\"Std CV Score: {metrics['std_cv_score']:.4f}\")"
      ],
      "metadata": {
        "colab": {
          "base_uri": "https://localhost:8080/"
        },
        "id": "46E5Tyxf--J_",
        "outputId": "24e5edc9-fdae-4d98-8733-ff748afb76cb"
      },
      "execution_count": null,
      "outputs": [
        {
          "output_type": "stream",
          "name": "stdout",
          "text": [
            "\n",
            "Logistic Regression:\n",
            "Mean CV Score: 0.7063\n",
            "Std CV Score: 0.0253\n",
            "\n",
            "Decision Tree:\n",
            "Mean CV Score: 0.6062\n",
            "Std CV Score: 0.0389\n",
            "\n",
            "Random Forest:\n",
            "Mean CV Score: 0.6900\n",
            "Std CV Score: 0.0320\n",
            "\n",
            "SVM:\n",
            "Mean CV Score: 0.6987\n",
            "Std CV Score: 0.0092\n"
          ]
        }
      ]
    },
    {
      "cell_type": "code",
      "source": [
        "from sklearn.model_selection import RandomizedSearchCV\n",
        "\n",
        "# Define the parameter grid\n",
        "param_grid = {\n",
        "    'n_estimators': [100, 200, 300, 400, 500],\n",
        "    'max_depth': [5, 10, 15, 20, None],\n",
        "    'min_samples_split': [2, 5, 10],\n",
        "    'min_samples_leaf': [1, 2, 4]\n",
        "}\n",
        "\n",
        "# Initialize the Random Forest model\n",
        "rf = RandomForestClassifier(random_state=42)\n",
        "\n",
        "# Perform randomized search\n",
        "random_search = RandomizedSearchCV(estimator=rf, param_distributions=param_grid, n_iter=100, cv=5, random_state=42)\n",
        "random_search.fit(X_train_selected, y_train)\n",
        "\n",
        "# Print the best parameters and score\n",
        "print(\"Best parameters:\", random_search.best_params_)\n",
        "print(\"Best cross-validation score:\", random_search.best_score_)\n",
        "\n",
        "# Use the best model for predictions\n",
        "best_rf = random_search.best_estimator_\n",
        "y_pred = best_rf.predict(X_test_selected)\n",
        "\n",
        "# Calculate and print metrics\n",
        "print(\"\\nBest Random Forest Model Metrics:\")\n",
        "print(f\"Accuracy: {accuracy_score(y_test, y_pred):.4f}\")\n",
        "print(f\"Precision: {precision_score(y_test, y_pred, average='weighted'):.4f}\")\n",
        "print(f\"Recall: {recall_score(y_test, y_pred, average='weighted'):.4f}\")\n",
        "print(f\"F1-score: {f1_score(y_test, y_pred, average='weighted'):.4f}\")"
      ],
      "metadata": {
        "colab": {
          "base_uri": "https://localhost:8080/"
        },
        "id": "7hso9PuD_JFC",
        "outputId": "81aedf5e-439e-4254-e630-7b360931cb4c"
      },
      "execution_count": null,
      "outputs": [
        {
          "output_type": "stream",
          "name": "stdout",
          "text": [
            "Best parameters: {'n_estimators': 100, 'min_samples_split': 10, 'min_samples_leaf': 4, 'max_depth': 20}\n",
            "Best cross-validation score: 0.7175\n",
            "\n",
            "Best Random Forest Model Metrics:\n",
            "Accuracy: 0.7600\n",
            "Precision: 0.7508\n",
            "Recall: 0.7600\n",
            "F1-score: 0.7180\n"
          ]
        }
      ]
    },
    {
      "cell_type": "code",
      "source": [
        "import shap\n",
        "\n",
        "# Create a SHAP explainer\n",
        "explainer = shap.TreeExplainer(best_rf)\n",
        "\n",
        "# Calculate SHAP values\n",
        "shap_values = explainer.shap_values(X_test_selected)\n",
        "\n",
        "# Plot summary\n",
        "shap.summary_plot(shap_values, X_test_selected, plot_type=\"bar\")"
      ],
      "metadata": {
        "colab": {
          "base_uri": "https://localhost:8080/",
          "height": 697
        },
        "id": "Nhxl6Y4H_JP-",
        "outputId": "d39a28a5-1e2e-4b56-b956-cedc226238b0"
      },
      "execution_count": null,
      "outputs": [
        {
          "output_type": "display_data",
          "data": {
            "text/plain": [
              "<Figure size 1150x660 with 2 Axes>"
            ],
            "image/png": "[encoded data removed]"
          },
          "metadata": {}
        }
      ]
    },
    {
      "cell_type": "code",
      "source": [
        "!pip install shap"
      ],
      "metadata": {
        "colab": {
          "base_uri": "https://localhost:8080/"
        },
        "id": "L82ey9_GBehN",
        "outputId": "0cd701a7-20da-429a-e577-f2e14ebbaa47"
      },
      "execution_count": null,
      "outputs": [
        {
          "output_type": "stream",
          "name": "stdout",
          "text": [
            "Collecting shap\n",
            "  Downloading shap-0.46.0-cp310-cp310-manylinux_2_12_x86_64.manylinux2010_x86_64.manylinux_2_17_x86_64.manylinux2014_x86_64.whl.metadata (24 kB)\n",
            "Requirement already satisfied: numpy in /usr/local/lib/python3.10/dist-packages (from shap) (1.26.4)\n",
            "Requirement already satisfied: scipy in /usr/local/lib/python3.10/dist-packages (from shap) (1.13.1)\n",
            "Requirement already satisfied: scikit-learn in /usr/local/lib/python3.10/dist-packages (from shap) (1.3.2)\n",
            "Requirement already satisfied: pandas in /usr/local/lib/python3.10/dist-packages (from shap) (2.1.4)\n",
            "Requirement already satisfied: tqdm>=4.27.0 in /usr/local/lib/python3.10/dist-packages (from shap) (4.66.5)\n",
            "Requirement already satisfied: packaging>20.9 in /usr/local/lib/python3.10/dist-packages (from shap) (24.1)\n",
            "Collecting slicer==0.0.8 (from shap)\n",
            "  Downloading slicer-0.0.8-py3-none-any.whl.metadata (4.0 kB)\n",
            "Requirement already satisfied: numba in /usr/local/lib/python3.10/dist-packages (from shap) (0.60.0)\n",
            "Requirement already satisfied: cloudpickle in /usr/local/lib/python3.10/dist-packages (from shap) (2.2.1)\n",
            "Requirement already satisfied: llvmlite<0.44,>=0.43.0dev0 in /usr/local/lib/python3.10/dist-packages (from numba->shap) (0.43.0)\n",
            "Requirement already satisfied: python-dateutil>=2.8.2 in /usr/local/lib/python3.10/dist-packages (from pandas->shap) (2.8.2)\n",
            "Requirement already satisfied: pytz>=2020.1 in /usr/local/lib/python3.10/dist-packages (from pandas->shap) (2024.1)\n",
            "Requirement already satisfied: tzdata>=2022.1 in /usr/local/lib/python3.10/dist-packages (from pandas->shap) (2024.1)\n",
            "Requirement already satisfied: joblib>=1.1.1 in /usr/local/lib/python3.10/dist-packages (from scikit-learn->shap) (1.4.2)\n",
            "Requirement already satisfied: threadpoolctl>=2.0.0 in /usr/local/lib/python3.10/dist-packages (from scikit-learn->shap) (3.5.0)\n",
            "Requirement already satisfied: six>=1.5 in /usr/local/lib/python3.10/dist-packages (from python-dateutil>=2.8.2->pandas->shap) (1.16.0)\n",
            "Downloading shap-0.46.0-cp310-cp310-manylinux_2_12_x86_64.manylinux2010_x86_64.manylinux_2_17_x86_64.manylinux2014_x86_64.whl (540 kB)\n",
            "\u001b[2K   \u001b[90m━━━━━━━━━━━━━━━━━━━━━━━━━━━━━━━━━━━━━━━━\u001b[0m \u001b[32m540.1/540.1 kB\u001b[0m \u001b[31m9.1 MB/s\u001b[0m eta \u001b[36m0:00:00\u001b[0m\n",
            "\u001b[?25hDownloading slicer-0.0.8-py3-none-any.whl (15 kB)\n",
            "Installing collected packages: slicer, shap\n",
            "Successfully installed shap-0.46.0 slicer-0.0.8\n"
          ]
        }
      ]
    },
    {
      "cell_type": "code",
      "source": [
        "import streamlit as st\n",
        "import pandas as pd\n",
        "\n",
        "def predict_disease(input_data):\n",
        "    # Preprocess input data\n",
        "    input_df = pd.DataFrame([input_data])\n",
        "    input_scaled = scaler.transform(input_df)\n",
        "    input_selected = selector.transform(input_scaled)\n",
        "\n",
        "    # Make prediction\n",
        "    prediction = best_rf.predict(input_selected)\n",
        "    probability = best_rf.predict_proba(input_selected)\n",
        "\n",
        "    return prediction[0], probability[0][1]\n",
        "\n",
        "st.title('Disease Prediction System')\n",
        "\n",
        "# Create input fields for each feature\n",
        "input_data = {}\n",
        "for feature in selected_features:\n",
        "    input_data[feature] = st.number_input(f\"Enter {feature}\")\n",
        "\n",
        "if st.button('Predict'):\n",
        "    prediction, probability = predict_disease(input_data)\n",
        "    st.write(f\"Prediction: {'Disease' if prediction == 1 else 'No Disease'}\")\n",
        "    st.write(f\"Probability of Disease: {probability:.2f}\")"
      ],
      "metadata": {
        "colab": {
          "base_uri": "https://localhost:8080/"
        },
        "id": "RdzvDpBoB-zI",
        "outputId": "b59916c3-4c76-44a1-a5cf-40d5e1686f49"
      },
      "execution_count": null,
      "outputs": [
        {
          "output_type": "stream",
          "name": "stderr",
          "text": [
            "2024-08-19 17:26:23.286 Session state does not function when running a script without `streamlit run`\n"
          ]
        }
      ]
    },
    {
      "cell_type": "code",
      "source": [
        "path = \"/usr/local/lib/python3.10/dist-packages/colab_kernel_launcher.py\"\n"
      ],
      "metadata": {
        "id": "K-VLpq29CS0-"
      },
      "execution_count": null,
      "outputs": []
    },
    {
      "cell_type": "code",
      "source": [
        "!pip install streamlit"
      ],
      "metadata": {
        "colab": {
          "base_uri": "https://localhost:8080/"
        },
        "id": "6ql9EhdqCBgW",
        "outputId": "ebad9cdf-3081-461e-bf97-a80b85501694"
      },
      "execution_count": null,
      "outputs": [
        {
          "output_type": "stream",
          "name": "stdout",
          "text": [
            "Requirement already satisfied: streamlit in /usr/local/lib/python3.10/dist-packages (1.37.1)\n",
            "Requirement already satisfied: altair<6,>=4.0 in /usr/local/lib/python3.10/dist-packages (from streamlit) (4.2.2)\n",
            "Requirement already satisfied: blinker<2,>=1.0.0 in /usr/lib/python3/dist-packages (from streamlit) (1.4)\n",
            "Requirement already satisfied: cachetools<6,>=4.0 in /usr/local/lib/python3.10/dist-packages (from streamlit) (5.4.0)\n",
            "Requirement already satisfied: click<9,>=7.0 in /usr/local/lib/python3.10/dist-packages (from streamlit) (8.1.7)\n",
            "Requirement already satisfied: numpy<3,>=1.20 in /usr/local/lib/python3.10/dist-packages (from streamlit) (1.26.4)\n",
            "Requirement already satisfied: packaging<25,>=20 in /usr/local/lib/python3.10/dist-packages (from streamlit) (24.1)\n",
            "Requirement already satisfied: pandas<3,>=1.3.0 in /usr/local/lib/python3.10/dist-packages (from streamlit) (2.1.4)\n",
            "Requirement already satisfied: pillow<11,>=7.1.0 in /usr/local/lib/python3.10/dist-packages (from streamlit) (9.4.0)\n",
            "Requirement already satisfied: protobuf<6,>=3.20 in /usr/local/lib/python3.10/dist-packages (from streamlit) (3.20.3)\n",
            "Requirement already satisfied: pyarrow>=7.0 in /usr/local/lib/python3.10/dist-packages (from streamlit) (14.0.2)\n",
            "Requirement already satisfied: requests<3,>=2.27 in /usr/local/lib/python3.10/dist-packages (from streamlit) (2.32.3)\n",
            "Requirement already satisfied: rich<14,>=10.14.0 in /usr/local/lib/python3.10/dist-packages (from streamlit) (13.7.1)\n",
            "Requirement already satisfied: tenacity<9,>=8.1.0 in /usr/local/lib/python3.10/dist-packages (from streamlit) (8.5.0)\n",
            "Requirement already satisfied: toml<2,>=0.10.1 in /usr/local/lib/python3.10/dist-packages (from streamlit) (0.10.2)\n",
            "Requirement already satisfied: typing-extensions<5,>=4.3.0 in /usr/local/lib/python3.10/dist-packages (from streamlit) (4.12.2)\n",
            "Requirement already satisfied: gitpython!=3.1.19,<4,>=3.0.7 in /usr/local/lib/python3.10/dist-packages (from streamlit) (3.1.43)\n",
            "Requirement already satisfied: pydeck<1,>=0.8.0b4 in /usr/local/lib/python3.10/dist-packages (from streamlit) (0.9.1)\n",
            "Requirement already satisfied: tornado<7,>=6.0.3 in /usr/local/lib/python3.10/dist-packages (from streamlit) (6.3.3)\n",
            "Requirement already satisfied: watchdog<5,>=2.1.5 in /usr/local/lib/python3.10/dist-packages (from streamlit) (4.0.2)\n",
            "Requirement already satisfied: entrypoints in /usr/local/lib/python3.10/dist-packages (from altair<6,>=4.0->streamlit) (0.4)\n",
            "Requirement already satisfied: jinja2 in /usr/local/lib/python3.10/dist-packages (from altair<6,>=4.0->streamlit) (3.1.4)\n",
            "Requirement already satisfied: jsonschema>=3.0 in /usr/local/lib/python3.10/dist-packages (from altair<6,>=4.0->streamlit) (4.23.0)\n",
            "Requirement already satisfied: toolz in /usr/local/lib/python3.10/dist-packages (from altair<6,>=4.0->streamlit) (0.12.1)\n",
            "Requirement already satisfied: gitdb<5,>=4.0.1 in /usr/local/lib/python3.10/dist-packages (from gitpython!=3.1.19,<4,>=3.0.7->streamlit) (4.0.11)\n",
            "Requirement already satisfied: python-dateutil>=2.8.2 in /usr/local/lib/python3.10/dist-packages (from pandas<3,>=1.3.0->streamlit) (2.8.2)\n",
            "Requirement already satisfied: pytz>=2020.1 in /usr/local/lib/python3.10/dist-packages (from pandas<3,>=1.3.0->streamlit) (2024.1)\n",
            "Requirement already satisfied: tzdata>=2022.1 in /usr/local/lib/python3.10/dist-packages (from pandas<3,>=1.3.0->streamlit) (2024.1)\n",
            "Requirement already satisfied: charset-normalizer<4,>=2 in /usr/local/lib/python3.10/dist-packages (from requests<3,>=2.27->streamlit) (3.3.2)\n",
            "Requirement already satisfied: idna<4,>=2.5 in /usr/local/lib/python3.10/dist-packages (from requests<3,>=2.27->streamlit) (3.7)\n",
            "Requirement already satisfied: urllib3<3,>=1.21.1 in /usr/local/lib/python3.10/dist-packages (from requests<3,>=2.27->streamlit) (2.0.7)\n",
            "Requirement already satisfied: certifi>=2017.4.17 in /usr/local/lib/python3.10/dist-packages (from requests<3,>=2.27->streamlit) (2024.7.4)\n",
            "Requirement already satisfied: markdown-it-py>=2.2.0 in /usr/local/lib/python3.10/dist-packages (from rich<14,>=10.14.0->streamlit) (3.0.0)\n",
            "Requirement already satisfied: pygments<3.0.0,>=2.13.0 in /usr/local/lib/python3.10/dist-packages (from rich<14,>=10.14.0->streamlit) (2.16.1)\n",
            "Requirement already satisfied: smmap<6,>=3.0.1 in /usr/local/lib/python3.10/dist-packages (from gitdb<5,>=4.0.1->gitpython!=3.1.19,<4,>=3.0.7->streamlit) (5.0.1)\n",
            "Requirement already satisfied: MarkupSafe>=2.0 in /usr/local/lib/python3.10/dist-packages (from jinja2->altair<6,>=4.0->streamlit) (2.1.5)\n",
            "Requirement already satisfied: attrs>=22.2.0 in /usr/local/lib/python3.10/dist-packages (from jsonschema>=3.0->altair<6,>=4.0->streamlit) (24.2.0)\n",
            "Requirement already satisfied: jsonschema-specifications>=2023.03.6 in /usr/local/lib/python3.10/dist-packages (from jsonschema>=3.0->altair<6,>=4.0->streamlit) (2023.12.1)\n",
            "Requirement already satisfied: referencing>=0.28.4 in /usr/local/lib/python3.10/dist-packages (from jsonschema>=3.0->altair<6,>=4.0->streamlit) (0.35.1)\n",
            "Requirement already satisfied: rpds-py>=0.7.1 in /usr/local/lib/python3.10/dist-packages (from jsonschema>=3.0->altair<6,>=4.0->streamlit) (0.20.0)\n",
            "Requirement already satisfied: mdurl~=0.1 in /usr/local/lib/python3.10/dist-packages (from markdown-it-py>=2.2.0->rich<14,>=10.14.0->streamlit) (0.1.2)\n",
            "Requirement already satisfied: six>=1.5 in /usr/local/lib/python3.10/dist-packages (from python-dateutil>=2.8.2->pandas<3,>=1.3.0->streamlit) (1.16.0)\n"
          ]
        }
      ]
    }
  ]
}